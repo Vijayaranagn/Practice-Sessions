{
  "cells": [
    {
      "cell_type": "code",
      "execution_count": null,
      "metadata": {
        "colab": {
          "background_save": true,
          "base_uri": "https://localhost:8080/"
        },
        "id": "4oY_01jduniv",
        "outputId": "191d5a4b-ce9f-4c8d-faee-f52be06ac815"
      },
      "outputs": [
        {
          "name": "stdout",
          "output_type": "stream",
          "text": [
            " \n",
            "Please select an option \n",
            "\n",
            "                1. Register\n",
            "                2. Login\n",
            "                3. Forget Password\n",
            "                \n"
          ]
        }
      ],
      "source": [
        "import re\n",
        "import csv\n",
        "\n",
        "email_regex = re.compile(r'([A-Za-z0-9]+[.-_])*[A-Za-z0-9]+@[A-Za-z0-9-]+(\\.[A-Z|a-z]{2,})+')\n",
        "pwd_regex = re.compile(r'^(?=.*?[A-Z])(?=.*?[a-z])(?=.*?[0-9])(?=.*?[#?!@$%^&*-]).{5,}$')\n",
        "\n",
        "def isValidEmail(email):\n",
        "    if re.fullmatch(email_regex, email):\n",
        "      return True\n",
        "    else:\n",
        "      return False\n",
        "\n",
        "def isValidPwd(pwd):\n",
        "    if len(pwd) < 16 and len(pwd) > 5 and re.fullmatch(pwd_regex, pwd):\n",
        "      return True\n",
        "    else:\n",
        "      return False\n",
        "\n",
        "def register():\n",
        "    print('\\nRegister New User\\n')\n",
        "    email = input('Email Id: ')\n",
        "    if isValidEmail(email):\n",
        "        password = input('Password: ')\n",
        "        if isValidPwd(password):\n",
        "            write_file(email, password)\n",
        "            print('\\nUser Registered Successfully!!')\n",
        "        else:\n",
        "            print('\\nInvalid Password, Please Try Again...!!')\n",
        "    else:\n",
        "        print('\\nInvalid Username, Please Try Again...!!')\n",
        "\n",
        "    \n",
        "def login():\n",
        "    email = input('Email Id: ')\n",
        "    auth  = False\n",
        "    if isValidEmail(email):\n",
        "        password = input('Password: ')\n",
        "        if isValidPwd(password):\n",
        "            if search_file(email, password):\n",
        "                print ('\\nUser Logged In Successfully...')\n",
        "            else:\n",
        "                print('\\nUser Not Found !!!')\n",
        "                register()\n",
        "        else:\n",
        "            print('\\nInvalid Password, Please Try Again...')\n",
        "    else:\n",
        "        print('\\nInvalid Username, Please Try Again...')\n",
        "\n",
        "def forget_pwd():\n",
        "    email = input('Email Id: ')\n",
        "    if isValidEmail(email):\n",
        "        if search_pwd(email):\n",
        "            print ('\\nUser Logged In Successfully...')\n",
        "        else:\n",
        "            print('\\nUser Not Found !!!')\n",
        "            register()\n",
        "    else:\n",
        "        print('\\nInvalid Username, Please Try Again...')\n",
        "\n",
        "def search_file(email, pwd , mode = 'r', encoding = 'UTF8', newline = ''):\n",
        "    with open('users.csv', mode, encoding = encoding, newline = newline) as f:\n",
        "        reader = csv.reader(f)\n",
        "        for row in reader:\n",
        "            if email == row[0] and pwd == row[1]:\n",
        "                return True\n",
        "        return False\n",
        "\n",
        "def search_pwd(email, mode = 'r', encoding = 'UTF8', newline = ''):\n",
        "    with open('users.csv', mode, encoding = encoding, newline = newline) as f:\n",
        "        reader = csv.reader(f)\n",
        "        for row in reader:\n",
        "            if email == row[0]:\n",
        "                print('\\nPassword for '+ email + ' is '+ row[1])\n",
        "                return True\n",
        "        return False\n",
        "        \n",
        "#Should be placed into CSV util module\n",
        "def write_file(email, pwd , mode = 'a', encoding = 'UTF8', newline = ''):\n",
        "    with open('users.csv', mode, encoding = encoding, newline = newline) as f:\n",
        "        writer = csv.writer(f)\n",
        "        writer.writerow([email, pwd])\n",
        "  \n",
        "if __name__ == \"__main__\":\n",
        "   \n",
        "    try:\n",
        "        while True:\n",
        "            print(''' \\nPlease select an option \\n\n",
        "                1. Register\n",
        "                2. Login\n",
        "                3. Forget Password\n",
        "                ''')\n",
        "            option = int(input())\n",
        "            if option == 1:\n",
        "                register()\n",
        "            elif option == 2:\n",
        "                login()\n",
        "            elif option == 3:\n",
        "                forget_pwd()\n",
        "            else:\n",
        "                print(\"Invalid Option\")\n",
        "    except:\n",
        "        print(\"An exception occurred\")"
      ]
    },
    {
      "cell_type": "code",
      "execution_count": null,
      "metadata": {
        "id": "K3wGYi6qvGwX"
      },
      "outputs": [],
      "source": []
    }
  ],
  "metadata": {
    "colab": {
      "provenance": [],
      "authorship_tag": "ABX9TyP+RrCaeudXGS7VtECBISvS"
    },
    "kernelspec": {
      "display_name": "Python 3",
      "name": "python3"
    },
    "language_info": {
      "name": "python"
    }
  },
  "nbformat": 4,
  "nbformat_minor": 0
}