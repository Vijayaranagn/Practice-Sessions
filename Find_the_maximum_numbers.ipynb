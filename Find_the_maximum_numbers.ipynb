{
  "nbformat": 4,
  "nbformat_minor": 0,
  "metadata": {
    "colab": {
      "provenance": [],
      "authorship_tag": "ABX9TyMzAwslPilIDaA36DQn41Hr"
    },
    "kernelspec": {
      "name": "python3",
      "display_name": "Python 3"
    },
    "language_info": {
      "name": "python"
    }
  },
  "cells": [
    {
      "cell_type": "code",
      "execution_count": null,
      "metadata": {
        "colab": {
          "base_uri": "https://localhost:8080/"
        },
        "id": "ptIWx1N8MvCq",
        "outputId": "849b30df-887d-4e67-f022-9cdd9967189e"
      },
      "outputs": [
        {
          "output_type": "stream",
          "name": "stdout",
          "text": [
            "256\n",
            "1\n",
            "256\n"
          ]
        }
      ],
      "source": [
        "def maximum(a,b):\n",
        "  if a >= b:\n",
        "    return a\n",
        "  else:\n",
        "    if a <= b:\n",
        "      return b\n",
        "a = int(input())\n",
        "b = int(input())\n",
        "\n",
        "print(maximum(a, b))"
      ]
    },
    {
      "cell_type": "code",
      "source": [
        "a = int(input())\n",
        "b = int(input())\n",
        "\n",
        "maximum = max(a,b)\n",
        "\n",
        "print(maximum)"
      ],
      "metadata": {
        "colab": {
          "base_uri": "https://localhost:8080/"
        },
        "id": "IXoa9fZzNCoM",
        "outputId": "60a4c18e-72b8-4fbe-e19e-af26d5759acf"
      },
      "execution_count": null,
      "outputs": [
        {
          "output_type": "stream",
          "name": "stdout",
          "text": [
            "56\n",
            "23\n",
            "56\n"
          ]
        }
      ]
    },
    {
      "cell_type": "code",
      "source": [
        "a = int(input())\n",
        "b = int(input())\n",
        "\n",
        "print(a if a >= b else b)"
      ],
      "metadata": {
        "colab": {
          "base_uri": "https://localhost:8080/"
        },
        "id": "sbymd1LTN0By",
        "outputId": "e8c36032-a3d6-4b1c-b890-880a6c27f5c3"
      },
      "execution_count": null,
      "outputs": [
        {
          "output_type": "stream",
          "name": "stdout",
          "text": [
            "15\n",
            "25\n",
            "25\n"
          ]
        }
      ]
    },
    {
      "cell_type": "code",
      "source": [
        "#Method: Using lambda function \n",
        "\n",
        "a = input()\n",
        "b = input()\n",
        "\n",
        "maximum = lambda a,b : a if a>=b else b\n",
        "print(f'{maximum(a,b)} is a maximum number')"
      ],
      "metadata": {
        "colab": {
          "base_uri": "https://localhost:8080/"
        },
        "id": "Ed82Hor3RLoi",
        "outputId": "e88a1ede-a835-4527-c45f-25bcb5b5aed8"
      },
      "execution_count": null,
      "outputs": [
        {
          "output_type": "stream",
          "name": "stdout",
          "text": [
            "157657\n",
            "4189458\n",
            "4189458 is a maximum number\n"
          ]
        }
      ]
    },
    {
      "cell_type": "code",
      "source": [
        "#Method: Using list comprehension\n",
        "\n",
        "a = int(input())\n",
        "b = int(input())\n",
        "\n",
        "x = [a if a>b else b]\n",
        "\n",
        "print(\"Maximum number is\", x)"
      ],
      "metadata": {
        "colab": {
          "base_uri": "https://localhost:8080/"
        },
        "id": "hwIgBeA_Tx6I",
        "outputId": "269c36bf-7492-47eb-ae3c-e268cd1f992e"
      },
      "execution_count": null,
      "outputs": [
        {
          "output_type": "stream",
          "name": "stdout",
          "text": [
            "1451\n",
            "545\n",
            "Maximum number is [1451]\n"
          ]
        }
      ]
    },
    {
      "cell_type": "code",
      "source": [],
      "metadata": {
        "id": "Q9cXzdZuUys5"
      },
      "execution_count": null,
      "outputs": []
    }
  ]
}